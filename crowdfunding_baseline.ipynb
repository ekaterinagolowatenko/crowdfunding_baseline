{
  "nbformat": 4,
  "nbformat_minor": 0,
  "metadata": {
    "colab": {
      "provenance": [],
      "authorship_tag": "ABX9TyP0GjzGJHcxNNtik9rCzMi1",
      "include_colab_link": true
    },
    "kernelspec": {
      "name": "python3",
      "display_name": "Python 3"
    },
    "language_info": {
      "name": "python"
    }
  },
  "cells": [
    {
      "cell_type": "markdown",
      "metadata": {
        "id": "view-in-github",
        "colab_type": "text"
      },
      "source": [
        "<a href=\"https://colab.research.google.com/github/ekaterinagolowatenko/crowdfunding_baseline/blob/main/crowdfunding_baseline.ipynb\" target=\"_parent\"><img src=\"https://colab.research.google.com/assets/colab-badge.svg\" alt=\"Open In Colab\"/></a>"
      ]
    },
    {
      "cell_type": "code",
      "execution_count": null,
      "metadata": {
        "id": "TSbMalCPMOAo"
      },
      "outputs": [],
      "source": [
        "from google.colab import files\n",
        "import pandas as pd\n",
        "import joblib\n",
        "from sklearn.model_selection import train_test_split\n",
        "from sklearn.preprocessing import OneHotEncoder, StandardScaler\n",
        "from sklearn.compose import ColumnTransformer\n",
        "from sklearn.pipeline import Pipeline\n",
        "from sklearn.metrics import classification_report, f1_score\n",
        "import numpy as np\n",
        "from tensorflow.keras.models import Sequential\n",
        "from tensorflow.keras.layers import Dense, Dropout\n",
        "from tensorflow.keras.optimizers import Adam"
      ]
    },
    {
      "cell_type": "code",
      "source": [
        "uploaded = files.upload()\n",
        "df = pd.read_csv('ks-projects-201801.csv')\n",
        "df.columns.tolist()"
      ],
      "metadata": {
        "colab": {
          "base_uri": "https://localhost:8080/",
          "height": 353
        },
        "id": "7fi8GxyqBHMI",
        "outputId": "c6e5b07e-b007-45af-ff6e-58036f489142"
      },
      "execution_count": null,
      "outputs": [
        {
          "output_type": "display_data",
          "data": {
            "text/plain": [
              "<IPython.core.display.HTML object>"
            ],
            "text/html": [
              "\n",
              "     <input type=\"file\" id=\"files-ab39d527-9b74-4e4d-aef2-b84a6930a092\" name=\"files[]\" multiple disabled\n",
              "        style=\"border:none\" />\n",
              "     <output id=\"result-ab39d527-9b74-4e4d-aef2-b84a6930a092\">\n",
              "      Upload widget is only available when the cell has been executed in the\n",
              "      current browser session. Please rerun this cell to enable.\n",
              "      </output>\n",
              "      <script>// Copyright 2017 Google LLC\n",
              "//\n",
              "// Licensed under the Apache License, Version 2.0 (the \"License\");\n",
              "// you may not use this file except in compliance with the License.\n",
              "// You may obtain a copy of the License at\n",
              "//\n",
              "//      http://www.apache.org/licenses/LICENSE-2.0\n",
              "//\n",
              "// Unless required by applicable law or agreed to in writing, software\n",
              "// distributed under the License is distributed on an \"AS IS\" BASIS,\n",
              "// WITHOUT WARRANTIES OR CONDITIONS OF ANY KIND, either express or implied.\n",
              "// See the License for the specific language governing permissions and\n",
              "// limitations under the License.\n",
              "\n",
              "/**\n",
              " * @fileoverview Helpers for google.colab Python module.\n",
              " */\n",
              "(function(scope) {\n",
              "function span(text, styleAttributes = {}) {\n",
              "  const element = document.createElement('span');\n",
              "  element.textContent = text;\n",
              "  for (const key of Object.keys(styleAttributes)) {\n",
              "    element.style[key] = styleAttributes[key];\n",
              "  }\n",
              "  return element;\n",
              "}\n",
              "\n",
              "// Max number of bytes which will be uploaded at a time.\n",
              "const MAX_PAYLOAD_SIZE = 100 * 1024;\n",
              "\n",
              "function _uploadFiles(inputId, outputId) {\n",
              "  const steps = uploadFilesStep(inputId, outputId);\n",
              "  const outputElement = document.getElementById(outputId);\n",
              "  // Cache steps on the outputElement to make it available for the next call\n",
              "  // to uploadFilesContinue from Python.\n",
              "  outputElement.steps = steps;\n",
              "\n",
              "  return _uploadFilesContinue(outputId);\n",
              "}\n",
              "\n",
              "// This is roughly an async generator (not supported in the browser yet),\n",
              "// where there are multiple asynchronous steps and the Python side is going\n",
              "// to poll for completion of each step.\n",
              "// This uses a Promise to block the python side on completion of each step,\n",
              "// then passes the result of the previous step as the input to the next step.\n",
              "function _uploadFilesContinue(outputId) {\n",
              "  const outputElement = document.getElementById(outputId);\n",
              "  const steps = outputElement.steps;\n",
              "\n",
              "  const next = steps.next(outputElement.lastPromiseValue);\n",
              "  return Promise.resolve(next.value.promise).then((value) => {\n",
              "    // Cache the last promise value to make it available to the next\n",
              "    // step of the generator.\n",
              "    outputElement.lastPromiseValue = value;\n",
              "    return next.value.response;\n",
              "  });\n",
              "}\n",
              "\n",
              "/**\n",
              " * Generator function which is called between each async step of the upload\n",
              " * process.\n",
              " * @param {string} inputId Element ID of the input file picker element.\n",
              " * @param {string} outputId Element ID of the output display.\n",
              " * @return {!Iterable<!Object>} Iterable of next steps.\n",
              " */\n",
              "function* uploadFilesStep(inputId, outputId) {\n",
              "  const inputElement = document.getElementById(inputId);\n",
              "  inputElement.disabled = false;\n",
              "\n",
              "  const outputElement = document.getElementById(outputId);\n",
              "  outputElement.innerHTML = '';\n",
              "\n",
              "  const pickedPromise = new Promise((resolve) => {\n",
              "    inputElement.addEventListener('change', (e) => {\n",
              "      resolve(e.target.files);\n",
              "    });\n",
              "  });\n",
              "\n",
              "  const cancel = document.createElement('button');\n",
              "  inputElement.parentElement.appendChild(cancel);\n",
              "  cancel.textContent = 'Cancel upload';\n",
              "  const cancelPromise = new Promise((resolve) => {\n",
              "    cancel.onclick = () => {\n",
              "      resolve(null);\n",
              "    };\n",
              "  });\n",
              "\n",
              "  // Wait for the user to pick the files.\n",
              "  const files = yield {\n",
              "    promise: Promise.race([pickedPromise, cancelPromise]),\n",
              "    response: {\n",
              "      action: 'starting',\n",
              "    }\n",
              "  };\n",
              "\n",
              "  cancel.remove();\n",
              "\n",
              "  // Disable the input element since further picks are not allowed.\n",
              "  inputElement.disabled = true;\n",
              "\n",
              "  if (!files) {\n",
              "    return {\n",
              "      response: {\n",
              "        action: 'complete',\n",
              "      }\n",
              "    };\n",
              "  }\n",
              "\n",
              "  for (const file of files) {\n",
              "    const li = document.createElement('li');\n",
              "    li.append(span(file.name, {fontWeight: 'bold'}));\n",
              "    li.append(span(\n",
              "        `(${file.type || 'n/a'}) - ${file.size} bytes, ` +\n",
              "        `last modified: ${\n",
              "            file.lastModifiedDate ? file.lastModifiedDate.toLocaleDateString() :\n",
              "                                    'n/a'} - `));\n",
              "    const percent = span('0% done');\n",
              "    li.appendChild(percent);\n",
              "\n",
              "    outputElement.appendChild(li);\n",
              "\n",
              "    const fileDataPromise = new Promise((resolve) => {\n",
              "      const reader = new FileReader();\n",
              "      reader.onload = (e) => {\n",
              "        resolve(e.target.result);\n",
              "      };\n",
              "      reader.readAsArrayBuffer(file);\n",
              "    });\n",
              "    // Wait for the data to be ready.\n",
              "    let fileData = yield {\n",
              "      promise: fileDataPromise,\n",
              "      response: {\n",
              "        action: 'continue',\n",
              "      }\n",
              "    };\n",
              "\n",
              "    // Use a chunked sending to avoid message size limits. See b/62115660.\n",
              "    let position = 0;\n",
              "    do {\n",
              "      const length = Math.min(fileData.byteLength - position, MAX_PAYLOAD_SIZE);\n",
              "      const chunk = new Uint8Array(fileData, position, length);\n",
              "      position += length;\n",
              "\n",
              "      const base64 = btoa(String.fromCharCode.apply(null, chunk));\n",
              "      yield {\n",
              "        response: {\n",
              "          action: 'append',\n",
              "          file: file.name,\n",
              "          data: base64,\n",
              "        },\n",
              "      };\n",
              "\n",
              "      let percentDone = fileData.byteLength === 0 ?\n",
              "          100 :\n",
              "          Math.round((position / fileData.byteLength) * 100);\n",
              "      percent.textContent = `${percentDone}% done`;\n",
              "\n",
              "    } while (position < fileData.byteLength);\n",
              "  }\n",
              "\n",
              "  // All done.\n",
              "  yield {\n",
              "    response: {\n",
              "      action: 'complete',\n",
              "    }\n",
              "  };\n",
              "}\n",
              "\n",
              "scope.google = scope.google || {};\n",
              "scope.google.colab = scope.google.colab || {};\n",
              "scope.google.colab._files = {\n",
              "  _uploadFiles,\n",
              "  _uploadFilesContinue,\n",
              "};\n",
              "})(self);\n",
              "</script> "
            ]
          },
          "metadata": {}
        },
        {
          "output_type": "stream",
          "name": "stdout",
          "text": [
            "Saving ks-projects-201801.csv to ks-projects-201801.csv\n"
          ]
        },
        {
          "output_type": "execute_result",
          "data": {
            "text/plain": [
              "['ID',\n",
              " 'name',\n",
              " 'category',\n",
              " 'main_category',\n",
              " 'currency',\n",
              " 'deadline',\n",
              " 'goal',\n",
              " 'launched',\n",
              " 'pledged',\n",
              " 'state',\n",
              " 'backers',\n",
              " 'country',\n",
              " 'usd pledged',\n",
              " 'usd_pledged_real',\n",
              " 'usd_goal_real']"
            ]
          },
          "metadata": {},
          "execution_count": 2
        }
      ]
    },
    {
      "cell_type": "code",
      "source": [
        "df.head()\n",
        "df = df[df['state'].isin(['successful', 'failed'])].copy()\n",
        "df['success'] = (df['state'] == 'successful').astype(int)\n",
        "df_clean = df[df['state'].isin(['successful', 'failed'])].copy()\n",
        "df_clean['success'] = (df_clean['state'] == 'successful').astype(int)\n",
        "df_clean['launched'] = pd.to_datetime(df_clean['launched'])\n",
        "df_clean['deadline'] = pd.to_datetime(df_clean['deadline'])\n",
        "df_clean['duration_days'] = (df_clean['deadline'] - df_clean['launched']).dt.days\n",
        "df_clean = df_clean[\n",
        "    (df_clean['duration_days'] > 0) &\n",
        "    (df_clean['usd_goal_real'] > 0)\n",
        "].copy()\n",
        "df_clean['name_length'] = df_clean['name'].fillna('').str.len()\n",
        "top_categories = df['category'].value_counts().head(20).index\n",
        "df['category'] = df['category'].apply(lambda x: x if x in top_categories else 'Other')\n",
        "print(\"Уникальных категорий после сокращения:\", df['category'].nunique())"
      ],
      "metadata": {
        "id": "4QXNe3uuP-Er",
        "colab": {
          "base_uri": "https://localhost:8080/"
        },
        "outputId": "8f731621-d33f-401b-c2fa-d61fa4214b70"
      },
      "execution_count": null,
      "outputs": [
        {
          "output_type": "stream",
          "name": "stdout",
          "text": [
            "Уникальных категорий после сокращения: 21\n"
          ]
        }
      ]
    },
    {
      "cell_type": "code",
      "source": [
        "features = [\n",
        "    'usd_goal_real',\n",
        "    'duration_days',\n",
        "    'category',\n",
        "    'main_category',\n",
        "    'country',\n",
        "    'currency'\n",
        "]\n",
        "X = df_clean[features]\n",
        "y = df_clean['success']\n",
        "X_train, X_test, y_train, y_test = train_test_split(\n",
        "    X, y,\n",
        "    test_size=0.2,\n",
        "    stratify=y,\n",
        "    random_state=42\n",
        ")"
      ],
      "metadata": {
        "id": "BX4W5hYGQC7j"
      },
      "execution_count": null,
      "outputs": []
    },
    {
      "cell_type": "code",
      "source": [
        "allowed_categories = sorted(X_train['category'].unique())\n",
        "allowed_main_categories = sorted(X_train['main_category'].unique())\n",
        "allowed_countries = sorted(X_train['country'].unique())\n",
        "print(\"Train size:\", len(X_train))\n",
        "print(\"Test size:\", len(X_test))\n",
        "print(\"Success rate in train:\", y_train.mean())\n",
        "print(\"Success rate in test:\", y_test.mean())"
      ],
      "metadata": {
        "id": "Toi1fG8TQJLo",
        "colab": {
          "base_uri": "https://localhost:8080/"
        },
        "outputId": "bea7427c-b4b1-48d2-f469-3a7570c8ce9f"
      },
      "execution_count": null,
      "outputs": [
        {
          "output_type": "stream",
          "name": "stdout",
          "text": [
            "Train size: 265266\n",
            "Test size: 66317\n",
            "Success rate in train: 0.40388515678601855\n",
            "Success rate in test: 0.4038783419032827\n"
          ]
        }
      ]
    },
    {
      "cell_type": "code",
      "source": [
        "categorical_features = ['category', 'main_category', 'country', 'currency']\n",
        "numerical_features = ['usd_goal_real', 'duration_days']\n",
        "\n",
        "preprocessor = ColumnTransformer(\n",
        "    transformers=[\n",
        "        ('cat', OneHotEncoder(drop='first', handle_unknown='ignore'), categorical_features),\n",
        "        ('num', StandardScaler(), numerical_features)\n",
        "    ]\n",
        ")"
      ],
      "metadata": {
        "id": "Oo4Q0x4fEAhz"
      },
      "execution_count": null,
      "outputs": []
    },
    {
      "cell_type": "code",
      "source": [
        "X_train_processed = preprocessor.fit_transform(X_train)\n",
        "X_test_processed = preprocessor.transform(X_test)\n",
        "\n",
        "X_train_processed = X_train_processed.toarray() if hasattr(X_train_processed, \"toarray\") else X_train_processed\n",
        "X_test_processed = X_test_processed.toarray() if hasattr(X_test_processed, \"toarray\") else X_test_processed\n",
        "\n",
        "y_train = y_train.values\n",
        "y_test = y_test.values"
      ],
      "metadata": {
        "id": "TuFN523jde10"
      },
      "execution_count": null,
      "outputs": []
    },
    {
      "cell_type": "code",
      "source": [
        "model = Sequential([\n",
        "    Dense(128, activation='relu', input_shape=(X_train_processed.shape[1],)),\n",
        "    Dropout(0.3),\n",
        "    Dense(64, activation='relu'),\n",
        "    Dropout(0.3),\n",
        "    Dense(32, activation='relu'),\n",
        "    Dense(1, activation='sigmoid')\n",
        "])\n",
        "\n",
        "model.compile(\n",
        "    optimizer=Adam(learning_rate=0.001),\n",
        "    loss='binary_crossentropy',\n",
        "    metrics=['accuracy']\n",
        ")\n",
        "\n",
        "model.fit(\n",
        "    X_train_processed, y_train,\n",
        "    epochs=30,\n",
        "    batch_size=64,\n",
        "    validation_data=(X_test_processed, y_test),\n",
        "    verbose=1\n",
        ")\n",
        "\n",
        "y_pred_proba = model.predict(X_test_processed)\n",
        "y_pred = (y_pred_proba > 0.5).astype(int).flatten()\n",
        "\n",
        "print(\"F1-score:\", f1_score(y_test, y_pred))\n",
        "print(\"\\nClassification Report:\\n\", classification_report(y_test, y_pred))"
      ],
      "metadata": {
        "id": "E2wxmKeJdf6n",
        "colab": {
          "base_uri": "https://localhost:8080/"
        },
        "outputId": "7d4d0e74-78ad-4710-d49b-9ba4e5aacf4c"
      },
      "execution_count": null,
      "outputs": [
        {
          "output_type": "stream",
          "name": "stderr",
          "text": [
            "/usr/local/lib/python3.12/dist-packages/keras/src/layers/core/dense.py:93: UserWarning: Do not pass an `input_shape`/`input_dim` argument to a layer. When using Sequential models, prefer using an `Input(shape)` object as the first layer in the model instead.\n",
            "  super().__init__(activity_regularizer=activity_regularizer, **kwargs)\n"
          ]
        },
        {
          "output_type": "stream",
          "name": "stdout",
          "text": [
            "Epoch 1/30\n",
            "\u001b[1m4145/4145\u001b[0m \u001b[32m━━━━━━━━━━━━━━━━━━━━\u001b[0m\u001b[37m\u001b[0m \u001b[1m14s\u001b[0m 3ms/step - accuracy: 0.6474 - loss: 0.6245 - val_accuracy: 0.6667 - val_loss: 0.6071\n",
            "Epoch 2/30\n",
            "\u001b[1m4145/4145\u001b[0m \u001b[32m━━━━━━━━━━━━━━━━━━━━\u001b[0m\u001b[37m\u001b[0m \u001b[1m9s\u001b[0m 2ms/step - accuracy: 0.6657 - loss: 0.6062 - val_accuracy: 0.6684 - val_loss: 0.6034\n",
            "Epoch 3/30\n",
            "\u001b[1m4145/4145\u001b[0m \u001b[32m━━━━━━━━━━━━━━━━━━━━\u001b[0m\u001b[37m\u001b[0m \u001b[1m10s\u001b[0m 2ms/step - accuracy: 0.6697 - loss: 0.6026 - val_accuracy: 0.6702 - val_loss: 0.6005\n",
            "Epoch 4/30\n",
            "\u001b[1m4145/4145\u001b[0m \u001b[32m━━━━━━━━━━━━━━━━━━━━\u001b[0m\u001b[37m\u001b[0m \u001b[1m9s\u001b[0m 2ms/step - accuracy: 0.6683 - loss: 0.6015 - val_accuracy: 0.6691 - val_loss: 0.5992\n",
            "Epoch 5/30\n",
            "\u001b[1m4145/4145\u001b[0m \u001b[32m━━━━━━━━━━━━━━━━━━━━\u001b[0m\u001b[37m\u001b[0m \u001b[1m10s\u001b[0m 2ms/step - accuracy: 0.6706 - loss: 0.5992 - val_accuracy: 0.6693 - val_loss: 0.5989\n",
            "Epoch 6/30\n",
            "\u001b[1m4145/4145\u001b[0m \u001b[32m━━━━━━━━━━━━━━━━━━━━\u001b[0m\u001b[37m\u001b[0m \u001b[1m9s\u001b[0m 2ms/step - accuracy: 0.6685 - loss: 0.5988 - val_accuracy: 0.6725 - val_loss: 0.5960\n",
            "Epoch 7/30\n",
            "\u001b[1m4145/4145\u001b[0m \u001b[32m━━━━━━━━━━━━━━━━━━━━\u001b[0m\u001b[37m\u001b[0m \u001b[1m10s\u001b[0m 2ms/step - accuracy: 0.6715 - loss: 0.5981 - val_accuracy: 0.6701 - val_loss: 0.5971\n",
            "Epoch 8/30\n",
            "\u001b[1m4145/4145\u001b[0m \u001b[32m━━━━━━━━━━━━━━━━━━━━\u001b[0m\u001b[37m\u001b[0m \u001b[1m8s\u001b[0m 2ms/step - accuracy: 0.6730 - loss: 0.5961 - val_accuracy: 0.6721 - val_loss: 0.5953\n",
            "Epoch 9/30\n",
            "\u001b[1m4145/4145\u001b[0m \u001b[32m━━━━━━━━━━━━━━━━━━━━\u001b[0m\u001b[37m\u001b[0m \u001b[1m9s\u001b[0m 2ms/step - accuracy: 0.6718 - loss: 0.5955 - val_accuracy: 0.6714 - val_loss: 0.5959\n",
            "Epoch 10/30\n",
            "\u001b[1m4145/4145\u001b[0m \u001b[32m━━━━━━━━━━━━━━━━━━━━\u001b[0m\u001b[37m\u001b[0m \u001b[1m9s\u001b[0m 2ms/step - accuracy: 0.6731 - loss: 0.5949 - val_accuracy: 0.6726 - val_loss: 0.5957\n",
            "Epoch 11/30\n",
            "\u001b[1m4145/4145\u001b[0m \u001b[32m━━━━━━━━━━━━━━━━━━━━\u001b[0m\u001b[37m\u001b[0m \u001b[1m9s\u001b[0m 2ms/step - accuracy: 0.6729 - loss: 0.5946 - val_accuracy: 0.6726 - val_loss: 0.5949\n",
            "Epoch 12/30\n",
            "\u001b[1m4145/4145\u001b[0m \u001b[32m━━━━━━━━━━━━━━━━━━━━\u001b[0m\u001b[37m\u001b[0m \u001b[1m9s\u001b[0m 2ms/step - accuracy: 0.6754 - loss: 0.5928 - val_accuracy: 0.6728 - val_loss: 0.5945\n",
            "Epoch 13/30\n",
            "\u001b[1m4145/4145\u001b[0m \u001b[32m━━━━━━━━━━━━━━━━━━━━\u001b[0m\u001b[37m\u001b[0m \u001b[1m9s\u001b[0m 2ms/step - accuracy: 0.6726 - loss: 0.5943 - val_accuracy: 0.6749 - val_loss: 0.5941\n",
            "Epoch 14/30\n",
            "\u001b[1m4145/4145\u001b[0m \u001b[32m━━━━━━━━━━━━━━━━━━━━\u001b[0m\u001b[37m\u001b[0m \u001b[1m9s\u001b[0m 2ms/step - accuracy: 0.6729 - loss: 0.5946 - val_accuracy: 0.6730 - val_loss: 0.5936\n",
            "Epoch 15/30\n",
            "\u001b[1m4145/4145\u001b[0m \u001b[32m━━━━━━━━━━━━━━━━━━━━\u001b[0m\u001b[37m\u001b[0m \u001b[1m10s\u001b[0m 2ms/step - accuracy: 0.6754 - loss: 0.5923 - val_accuracy: 0.6739 - val_loss: 0.5939\n",
            "Epoch 16/30\n",
            "\u001b[1m4145/4145\u001b[0m \u001b[32m━━━━━━━━━━━━━━━━━━━━\u001b[0m\u001b[37m\u001b[0m \u001b[1m9s\u001b[0m 2ms/step - accuracy: 0.6737 - loss: 0.5928 - val_accuracy: 0.6723 - val_loss: 0.5939\n",
            "Epoch 17/30\n",
            "\u001b[1m4145/4145\u001b[0m \u001b[32m━━━━━━━━━━━━━━━━━━━━\u001b[0m\u001b[37m\u001b[0m \u001b[1m11s\u001b[0m 2ms/step - accuracy: 0.6753 - loss: 0.5916 - val_accuracy: 0.6730 - val_loss: 0.5925\n",
            "Epoch 18/30\n",
            "\u001b[1m4145/4145\u001b[0m \u001b[32m━━━━━━━━━━━━━━━━━━━━\u001b[0m\u001b[37m\u001b[0m \u001b[1m9s\u001b[0m 2ms/step - accuracy: 0.6768 - loss: 0.5904 - val_accuracy: 0.6744 - val_loss: 0.5921\n",
            "Epoch 19/30\n",
            "\u001b[1m4145/4145\u001b[0m \u001b[32m━━━━━━━━━━━━━━━━━━━━\u001b[0m\u001b[37m\u001b[0m \u001b[1m9s\u001b[0m 2ms/step - accuracy: 0.6753 - loss: 0.5911 - val_accuracy: 0.6745 - val_loss: 0.5923\n",
            "Epoch 20/30\n",
            "\u001b[1m4145/4145\u001b[0m \u001b[32m━━━━━━━━━━━━━━━━━━━━\u001b[0m\u001b[37m\u001b[0m \u001b[1m9s\u001b[0m 2ms/step - accuracy: 0.6758 - loss: 0.5905 - val_accuracy: 0.6735 - val_loss: 0.5936\n",
            "Epoch 21/30\n",
            "\u001b[1m4145/4145\u001b[0m \u001b[32m━━━━━━━━━━━━━━━━━━━━\u001b[0m\u001b[37m\u001b[0m \u001b[1m9s\u001b[0m 2ms/step - accuracy: 0.6765 - loss: 0.5903 - val_accuracy: 0.6760 - val_loss: 0.5927\n",
            "Epoch 22/30\n",
            "\u001b[1m4145/4145\u001b[0m \u001b[32m━━━━━━━━━━━━━━━━━━━━\u001b[0m\u001b[37m\u001b[0m \u001b[1m10s\u001b[0m 2ms/step - accuracy: 0.6761 - loss: 0.5900 - val_accuracy: 0.6754 - val_loss: 0.5921\n",
            "Epoch 23/30\n",
            "\u001b[1m4145/4145\u001b[0m \u001b[32m━━━━━━━━━━━━━━━━━━━━\u001b[0m\u001b[37m\u001b[0m \u001b[1m9s\u001b[0m 2ms/step - accuracy: 0.6775 - loss: 0.5892 - val_accuracy: 0.6751 - val_loss: 0.5921\n",
            "Epoch 24/30\n",
            "\u001b[1m4145/4145\u001b[0m \u001b[32m━━━━━━━━━━━━━━━━━━━━\u001b[0m\u001b[37m\u001b[0m \u001b[1m9s\u001b[0m 2ms/step - accuracy: 0.6772 - loss: 0.5888 - val_accuracy: 0.6738 - val_loss: 0.5934\n",
            "Epoch 25/30\n",
            "\u001b[1m4145/4145\u001b[0m \u001b[32m━━━━━━━━━━━━━━━━━━━━\u001b[0m\u001b[37m\u001b[0m \u001b[1m11s\u001b[0m 2ms/step - accuracy: 0.6771 - loss: 0.5889 - val_accuracy: 0.6752 - val_loss: 0.5924\n",
            "Epoch 26/30\n",
            "\u001b[1m4145/4145\u001b[0m \u001b[32m━━━━━━━━━━━━━━━━━━━━\u001b[0m\u001b[37m\u001b[0m \u001b[1m10s\u001b[0m 2ms/step - accuracy: 0.6771 - loss: 0.5889 - val_accuracy: 0.6746 - val_loss: 0.5917\n",
            "Epoch 27/30\n",
            "\u001b[1m4145/4145\u001b[0m \u001b[32m━━━━━━━━━━━━━━━━━━━━\u001b[0m\u001b[37m\u001b[0m \u001b[1m10s\u001b[0m 2ms/step - accuracy: 0.6765 - loss: 0.5890 - val_accuracy: 0.6750 - val_loss: 0.5915\n",
            "Epoch 28/30\n",
            "\u001b[1m4145/4145\u001b[0m \u001b[32m━━━━━━━━━━━━━━━━━━━━\u001b[0m\u001b[37m\u001b[0m \u001b[1m9s\u001b[0m 2ms/step - accuracy: 0.6765 - loss: 0.5894 - val_accuracy: 0.6752 - val_loss: 0.5911\n",
            "Epoch 29/30\n",
            "\u001b[1m4145/4145\u001b[0m \u001b[32m━━━━━━━━━━━━━━━━━━━━\u001b[0m\u001b[37m\u001b[0m \u001b[1m9s\u001b[0m 2ms/step - accuracy: 0.6791 - loss: 0.5875 - val_accuracy: 0.6756 - val_loss: 0.5915\n",
            "Epoch 30/30\n",
            "\u001b[1m4145/4145\u001b[0m \u001b[32m━━━━━━━━━━━━━━━━━━━━\u001b[0m\u001b[37m\u001b[0m \u001b[1m9s\u001b[0m 2ms/step - accuracy: 0.6782 - loss: 0.5877 - val_accuracy: 0.6765 - val_loss: 0.5922\n",
            "\u001b[1m2073/2073\u001b[0m \u001b[32m━━━━━━━━━━━━━━━━━━━━\u001b[0m\u001b[37m\u001b[0m \u001b[1m2s\u001b[0m 905us/step\n",
            "F1-score: 0.5447987609530478\n",
            "\n",
            "Classification Report:\n",
            "               precision    recall  f1-score   support\n",
            "\n",
            "           0       0.70      0.81      0.75     39533\n",
            "           1       0.63      0.48      0.54     26784\n",
            "\n",
            "    accuracy                           0.68     66317\n",
            "   macro avg       0.66      0.64      0.65     66317\n",
            "weighted avg       0.67      0.68      0.67     66317\n",
            "\n"
          ]
        }
      ]
    },
    {
      "cell_type": "code",
      "source": [
        "def predict_success(usd_goal, duration, category, main_category, country, currency):\n",
        "    input_df = pd.DataFrame([{\n",
        "        'usd_goal_real': usd_goal,\n",
        "        'duration_days': duration,\n",
        "        'category': category,\n",
        "        'main_category': main_category,\n",
        "        'country': country,\n",
        "        'currency': currency\n",
        "    }])\n",
        "    input_processed = preprocessor.transform(input_df)\n",
        "    input_processed = input_processed.toarray() if hasattr(input_processed, \"toarray\") else input_processed\n",
        "    prob = model.predict(input_processed)[0][0]\n",
        "    return f\"Вероятность успеха: {prob:.1%}\""
      ],
      "metadata": {
        "id": "AYeeK3YfXmZB"
      },
      "execution_count": null,
      "outputs": []
    },
    {
      "cell_type": "code",
      "source": [
        "def predict_success_interactive():\n",
        "    category = input(\"Категория: \")\n",
        "    while category not in allowed_categories:\n",
        "        category = input(\"Выберите из списка: \")\n",
        "    main_category = input(\"Основная категория: \")\n",
        "    while main_category not in allowed_main_categories:\n",
        "        main_category = input(\"Выберите из списка: \")\n",
        "    country = input(\"Страна: \")\n",
        "    while country not in allowed_countries:\n",
        "        country = input(\"Выберите из списка: \")\n",
        "    usd_goal = float(input(\"Цель в USD: \"))\n",
        "    duration = int(input(\"Длительность (дней): \"))\n",
        "    input_df = pd.DataFrame([{\n",
        "        'usd_goal_real': usd_goal,\n",
        "        'duration_days': duration,\n",
        "        'category': category,\n",
        "        'main_category': main_category,\n",
        "        'country': country,\n",
        "        'currency': 'USD'\n",
        "    }])\n",
        "    input_processed = preprocessor.transform(input_df)\n",
        "    input_processed = input_processed.toarray() if hasattr(input_processed, \"toarray\") else input_processed\n",
        "    prob = model.predict(input_processed)[0][0]\n",
        "    return f\"Вероятность успеха: {prob:.1%}\""
      ],
      "metadata": {
        "id": "NX4VehtEXvRm"
      },
      "execution_count": null,
      "outputs": []
    },
    {
      "cell_type": "code",
      "source": [
        "print(predict_success_interactive())"
      ],
      "metadata": {
        "id": "0hXU6GmQdvGV",
        "colab": {
          "base_uri": "https://localhost:8080/"
        },
        "outputId": "0663c9eb-4e2c-4585-b500-1465b9b495f8"
      },
      "execution_count": null,
      "outputs": [
        {
          "output_type": "stream",
          "name": "stdout",
          "text": [
            "Категория: Technology\n",
            "Основная категория: Tech\n",
            "Выберите из списка: Art\n",
            "Страна: US\n",
            "Цель в USD: 10000\n",
            "Длительность (дней): 40\n",
            "\u001b[1m1/1\u001b[0m \u001b[32m━━━━━━━━━━━━━━━━━━━━\u001b[0m\u001b[37m\u001b[0m \u001b[1m0s\u001b[0m 31ms/step\n",
            "Вероятность успеха: 33.5%\n"
          ]
        }
      ]
    }
  ]
}